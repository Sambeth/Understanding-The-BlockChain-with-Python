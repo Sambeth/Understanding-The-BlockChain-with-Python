{
 "cells": [
  {
   "cell_type": "markdown",
   "metadata": {},
   "source": [
    "## Blockchain\n",
    "\n",
    "### What is the Blockchain?\n",
    "* block\n",
    "* chain\n",
    "* proof of work (mining) you have to prove that you have put a lot of computing power into making a block"
   ]
  },
  {
   "cell_type": "code",
   "execution_count": 2,
   "metadata": {
    "collapsed": true
   },
   "outputs": [],
   "source": [
    "import hashlib\n",
    "import json\n",
    "from datetime import datetime"
   ]
  },
  {
   "cell_type": "code",
   "execution_count": 1,
   "metadata": {
    "collapsed": true
   },
   "outputs": [],
   "source": [
    "class Transaction:\n",
    "    \n",
    "    def __init__(self, sender, receiver, amount):\n",
    "        self.sender = sender\n",
    "        self.receiver = receiver\n",
    "        self.amount = amount\n",
    "    \n",
    "    def __str__(self):\n",
    "        return f'A transaction of an amount of {self.amount} from {self.sender} to {self.receiver}'\n",
    "\n",
    "\n",
    "class Block:\n",
    "    \n",
    "    def __init__(self, transactions, prev_hash = ''):\n",
    "        self.transactions = transactions\n",
    "        self.prev_hash = prev_hash\n",
    "        self.nonce = 0\n",
    "        self.timestamp = self.calculate_datetime()\n",
    "        self._hash = self.calculate_hash()\n",
    "    \n",
    "    def calculate_datetime(self):\n",
    "        return datetime.now().strftime(\"%A, %d. %B %Y %I:%M%p\")\n",
    "\n",
    "    def calculate_hash(self):\n",
    "        data = ','.join(str(trans) for trans in self.transactions)\n",
    "        h = _hashlib.sha256()\n",
    "        h.update(b\"%s %s %s %d\" % (data.encode(), self.prev_hash.encode(), self.timestamp.encode(), self.nonce))\n",
    "        return h.hexdigest()\n",
    "    \n",
    "    def mine_block(self, difficulty):\n",
    "        difficulty_string = \"\".join(\"0\" for x in range(difficulty))\n",
    "        while self._hash[:difficulty] != difficulty_string:\n",
    "            self.nonce += 1\n",
    "            self._hash = self.calculate_hash()\n",
    "        print(\"Block mined: {}\".format(self._hash))\n",
    "\n",
    "\n",
    "class BlockChain:\n",
    "    \n",
    "    def __init__(self):\n",
    "        self.chain = [self.create_genesis_block()]\n",
    "        self.difficulty = 2\n",
    "        self.pendingTransactions = []\n",
    "        self.miningReward = 100\n",
    "    \n",
    "    def create_genesis_block(self):\n",
    "        return Block(transactions=[Transaction(\"Phyllis\", \"Boatemaah\", 10)], prev_hash=\"0\")\n",
    "    \n",
    "    def get_latest_block(self):\n",
    "        return self.chain[len(self.chain) - 1]\n",
    "    \n",
    "#     def addBlock(self, newBlock):\n",
    "#         newBlock.prev_hash = self.get_latest_block()._hash\n",
    "#         newBlock.mine_block(self.difficulty)\n",
    "#         self.chain.append(newBlock)\n",
    "    \n",
    "    def mine_pending_transactions(self, mineRewardAddress):\n",
    "        block = Block(self.pendingTransactions)\n",
    "        block.mine_block(self.difficulty)\n",
    "        print(\"Block successfully mined!\")\n",
    "        self.chain.append(block)\n",
    "        \n",
    "        self.pendingTransactions = [Transaction(None, mineRewardAddress, self.miningReward)]\n",
    "    \n",
    "    def create_transaction(self, transaction):\n",
    "        self.pendingTransactions.append(transaction)\n",
    "    \n",
    "    def get_balance_of_address(self, address):\n",
    "        balance = 0\n",
    "        \n",
    "        for block in self.chain:\n",
    "            for trans in block.transactions:\n",
    "                if trans.sender == address:\n",
    "                    balance -= trans.amount\n",
    "                if trans.receiver == address:\n",
    "                    balance += trans.amount\n",
    "        \n",
    "        return balance\n",
    "        \n",
    "    def is_chain_valid(self):\n",
    "        for i in range(1, len(self.chain)):\n",
    "            currentBlock = self.chain[i]\n",
    "            prevBlock = self.chain[i - 1]\n",
    "            \n",
    "            if currentBlock._hash != currentBlock.calculate_hash():\n",
    "                return False\n",
    "            \n",
    "            if currentBlock.prev_hash != prevBlock._hash:\n",
    "                return False\n",
    "        \n",
    "        return True"
   ]
  },
  {
   "cell_type": "code",
   "execution_count": 3,
   "metadata": {},
   "outputs": [],
   "source": [
    "# data1 = {\n",
    "#     \"sender\": \"Samuel\",\n",
    "#     \"receiver\": \"Phyllis\",\n",
    "#     \"amount\": 100000000\n",
    "# }\n",
    "# data2 = {\n",
    "#     \"sender\": \"Tweety\",\n",
    "#     \"receiver\": \"Boat\",\n",
    "#     \"amount\": 1000\n",
    "# }\n",
    "# b = Block(data1)\n",
    "# p = Block(data2)\n",
    "sambeth = BlockChain()\n",
    "\n",
    "# print(\"Mining block 1........\")\n",
    "# sambeth.addBlock(b)\n",
    "# \"\\n\"\n",
    "# print(\"Mining block 2........\")\n",
    "# sambeth.addBlock(p)\n",
    "\n",
    "# sambeth.create_transaction(Transaction(\"address1\", \"address2\", 100))\n",
    "# sambeth.create_transaction(Transaction(\"address2\", \"address1\", 50))\n",
    "\n",
    "# print(\"Starting the miner.....\")\n",
    "# sambeth.mine_pending_transactions(\"sambeth-address\")\n",
    "\n",
    "# print(\"Balance of sambeth is {}\".format(sambeth.get_balance_of_address('sambeth-address')))\n",
    "\n",
    "# print(\"Starting the miner.....\")\n",
    "# sambeth.mine_pending_transactions(\"sambeth-address\")\n",
    "\n",
    "# print(\"Balance of sambeth is {}\".format(sambeth.get_balance_of_address('sambeth-address')))"
   ]
  },
  {
   "cell_type": "code",
   "execution_count": 54,
   "metadata": {
    "collapsed": true
   },
   "outputs": [],
   "source": [
    "t = Transaction(\"sambeth\", \"real\", 10)\n",
    "c = Transaction(\"phyllis\", \"seen\", 20)"
   ]
  },
  {
   "cell_type": "code",
   "execution_count": 38,
   "metadata": {
    "collapsed": true
   },
   "outputs": [],
   "source": [
    "d = [t, c]"
   ]
  },
  {
   "cell_type": "code",
   "execution_count": 40,
   "metadata": {
    "collapsed": true
   },
   "outputs": [],
   "source": [
    "from struct import *"
   ]
  },
  {
   "cell_type": "code",
   "execution_count": 55,
   "metadata": {},
   "outputs": [
    {
     "data": {
      "text/plain": [
       "'sambeth'"
      ]
     },
     "execution_count": 55,
     "metadata": {},
     "output_type": "execute_result"
    }
   ],
   "source": [
    "t.sender"
   ]
  },
  {
   "cell_type": "code",
   "execution_count": 49,
   "metadata": {},
   "outputs": [
    {
     "data": {
      "text/plain": [
       "'A transaction of an amount of 20 from phyllis to seen'"
      ]
     },
     "execution_count": 49,
     "metadata": {},
     "output_type": "execute_result"
    }
   ],
   "source": [
    "str(c)"
   ]
  },
  {
   "cell_type": "code",
   "execution_count": 5,
   "metadata": {},
   "outputs": [],
   "source": [
    "data2 = {\n",
    "    \"sender\": \"Tweety\",\n",
    "    \"receiver\": \"Boat\",\n",
    "    \"amount\": 1000\n",
    "}\n",
    "b = Block(data2)"
   ]
  },
  {
   "cell_type": "code",
   "execution_count": 6,
   "metadata": {},
   "outputs": [
    {
     "data": {
      "text/plain": [
       "'Monday, 12. March 2018 10:47PM'"
      ]
     },
     "execution_count": 6,
     "metadata": {},
     "output_type": "execute_result"
    }
   ],
   "source": [
    "b.calculateDateTime()"
   ]
  },
  {
   "cell_type": "code",
   "execution_count": null,
   "metadata": {
    "collapsed": true
   },
   "outputs": [],
   "source": []
  }
 ],
 "metadata": {
  "kernelspec": {
   "display_name": "Python 3",
   "language": "python",
   "name": "python3"
  },
  "language_info": {
   "codemirror_mode": {
    "name": "ipython",
    "version": 3
   },
   "file_extension": ".py",
   "mimetype": "text/x-python",
   "name": "python",
   "nbconvert_exporter": "python",
   "pygments_lexer": "ipython3",
   "version": "3.6.2"
  }
 },
 "nbformat": 4,
 "nbformat_minor": 2
}
